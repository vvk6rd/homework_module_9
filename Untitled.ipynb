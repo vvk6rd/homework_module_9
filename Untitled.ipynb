{
 "cells": [
  {
   "cell_type": "code",
   "execution_count": 1,
   "metadata": {},
   "outputs": [
    {
     "name": "stdout",
     "output_type": "stream",
     "text": [
      ".:\n",
      "total 20\n",
      "drwxr-sr-x 4 vvk6rd users 3072 Oct 26 19:45 homework9\n",
      "-rw-r--r-- 1 vvk6rd users 1063 Oct 26 11:32 LICENSE\n",
      "-rw-r--r-- 1 vvk6rd users   19 Oct 26 11:32 README.md\n",
      "-rw-r--r-- 1 vvk6rd users  296 Oct 26 19:24 setup.py\n",
      "-rw-r--r-- 1 vvk6rd users   72 Oct 26 21:51 Untitled.ipynb\n",
      "\n",
      "./homework9:\n",
      "total 32\n",
      "-rw-r--r-- 1 vvk6rd users 2214 Oct 26 12:07 booklover.py\n",
      "-rw-r--r-- 1 vvk6rd users 2724 Oct 26 12:21 booklover.pyc\n",
      "-rw-r--r-- 1 vvk6rd users 3243 Oct 26 19:22 booklover_test.py\n",
      "-rw-r--r-- 1 vvk6rd users   45 Oct 26 14:27 __init__.py\n",
      "drwxr-sr-x 2 vvk6rd users 2048 Oct 26 15:04 __pycache__\n",
      "\n",
      "./homework9/__pycache__:\n",
      "total 32\n",
      "-rw-r--r-- 1 vvk6rd users 2188 Oct 26 14:04 booklover.cpython-36.pyc\n",
      "-rw-r--r-- 1 vvk6rd users 2221 Oct 26 15:04 booklover.cpython-38.pyc\n",
      "-rw-r--r-- 1 vvk6rd users 2922 Oct 26 14:09 booklover_test.cpython-36.pyc\n",
      "-rw-r--r-- 1 vvk6rd users 2551 Oct 26 15:04 booklover_test.cpython-38.pyc\n"
     ]
    }
   ],
   "source": [
    "!ls -lR"
   ]
  },
  {
   "cell_type": "code",
   "execution_count": null,
   "metadata": {},
   "outputs": [],
   "source": []
  }
 ],
 "metadata": {
  "kernelspec": {
   "display_name": "Python 3",
   "language": "python",
   "name": "python3"
  },
  "language_info": {
   "codemirror_mode": {
    "name": "ipython",
    "version": 3
   },
   "file_extension": ".py",
   "mimetype": "text/x-python",
   "name": "python",
   "nbconvert_exporter": "python",
   "pygments_lexer": "ipython3",
   "version": "3.8.8"
  }
 },
 "nbformat": 4,
 "nbformat_minor": 4
}
