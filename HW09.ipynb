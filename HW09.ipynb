{
 "cells": [
  {
   "cell_type": "markdown",
   "metadata": {},
   "source": [
    "# Metadata\n",
    "\n",
    "```yaml\n",
    "Course:  DS 5100\n",
    "Module:  09 Python Packages\n",
    "Topic:   HW Package Booklover\n",
    "Author:  R.C. Alvarado (adapted)\n",
    "Date:    7 July 2023 (revised)\n",
    "```"
   ]
  },
  {
   "cell_type": "markdown",
   "metadata": {},
   "source": [
    "# Student Info\n",
    "\n",
    "* Name:  Ade Faparusi\n",
    "* Net UD:vvk6rd\n",
    "* URL of this file in GitHub:https://github.com/vvk6rd/homework_module_9"
   ]
  },
  {
   "cell_type": "markdown",
   "metadata": {},
   "source": [
    "# Instructions\n",
    "\n",
    "In your **private course repo on Rivanna**, use this Jupyter notebook and the data file described to write code that performs the tasks below. \n",
    "\n",
    "Save your notebook in the `M09` directory.\n",
    "\n",
    "Remember to add and commit these files to your repo. \n",
    "\n",
    "Then push your commits to your repo on GitHib.\n",
    "\n",
    "Be sure to fill out the **Student Info** block above.\n",
    "\n",
    "To submit your homework, save your results as a PDF and upload it to GradeScope. More information about how to create the PDF for this assignment are included at the end of this document.\n",
    "\n",
    "**TOTAL POINTS: 8**"
   ]
  },
  {
   "cell_type": "markdown",
   "metadata": {},
   "source": [
    "# Overview\n",
    "\n",
    "Follow the following recipe we used in class to package the code you wrote for `HW08` -- `booklover.py` and `booklover_test.py`.\n",
    "\n",
    "* Create a new git repo for your package.\n",
    "* Create and edit the required files and directories for your package and move the booklover modules there.\n",
    "* Stage, commit, and push all the files you've created.\n",
    "* Install your package with pip.\n",
    "* Outside of your package dir, write a script to test your method.\n",
    "\n",
    "Put this notebook in your repo. This will allow you to execute bash commands and capture the outpunt directly in the notebook.\n",
    "\n",
    "**TOTAL: 8 POINTS**"
   ]
  },
  {
   "cell_type": "markdown",
   "metadata": {
    "tags": []
   },
   "source": [
    "# Tasks"
   ]
  },
  {
   "cell_type": "markdown",
   "metadata": {},
   "source": [
    "## Task 1\n",
    "\n",
    "(5 points)\n",
    "\n",
    "Show the directory structure of your repo by running this command from the root of your repo:"
   ]
  },
  {
   "cell_type": "code",
   "execution_count": 5,
   "metadata": {},
   "outputs": [
    {
     "name": "stdout",
     "output_type": "stream",
     "text": [
      ".:\n",
      "total 40\n",
      "-rw-r--r-- 1 vvk6rd users  335 Oct 27 00:20 booklover_test.py\n",
      "drwxr-sr-x 4 vvk6rd users 2560 Oct 26 23:43 homework9\n",
      "-rw-r--r-- 1 vvk6rd users 7764 Oct 27 00:33 HW09.ipynb\n",
      "-rw-r--r-- 1 vvk6rd users 1063 Oct 26 11:32 LICENSE\n",
      "-rw-r--r-- 1 vvk6rd users   19 Oct 26 11:32 README.md\n",
      "-rw-r--r-- 1 vvk6rd users  296 Oct 26 19:24 setup.py\n",
      "-rw-r--r-- 1 vvk6rd users 1933 Oct 26 21:53 Untitled.ipynb\n",
      "\n",
      "./homework9:\n",
      "total 24\n",
      "-rw-r--r-- 1 vvk6rd users 2214 Oct 26 12:07 booklover.py\n",
      "-rw-r--r-- 1 vvk6rd users 2724 Oct 26 12:21 booklover.pyc\n",
      "-rw-r--r-- 1 vvk6rd users   45 Oct 26 14:27 __init__.py\n",
      "drwxr-sr-x 2 vvk6rd users 2560 Oct 27 00:17 __pycache__\n",
      "\n",
      "./homework9/__pycache__:\n",
      "total 36\n",
      "-rw-r--r-- 1 vvk6rd users 2188 Oct 26 14:04 booklover.cpython-36.pyc\n",
      "-rw-r--r-- 1 vvk6rd users 2221 Oct 26 15:04 booklover.cpython-38.pyc\n",
      "-rw-r--r-- 1 vvk6rd users 2922 Oct 26 14:09 booklover_test.cpython-36.pyc\n",
      "-rw-r--r-- 1 vvk6rd users 2551 Oct 26 15:04 booklover_test.cpython-38.pyc\n",
      "-rw-r--r-- 1 vvk6rd users  214 Oct 27 00:17 __init__.cpython-38.pyc\n"
     ]
    }
   ],
   "source": [
    "!ls -lR"
   ]
  },
  {
   "cell_type": "markdown",
   "metadata": {},
   "source": [
    "## Task 2\n",
    "\n",
    "(1 point)\n",
    "\n",
    "Put the URL of your GitHub repo here. Just paste it into a Markdown cell."
   ]
  },
  {
   "cell_type": "markdown",
   "metadata": {},
   "source": [
    "URL: https://github.com/vvk6rd/homework_module_9"
   ]
  },
  {
   "cell_type": "markdown",
   "metadata": {
    "lines_to_next_cell": 0
   },
   "source": [
    "## Task 3\n",
    "\n",
    "(1 point)\n",
    "\n",
    "Show the results of installing your package.\n",
    "\n",
    "```bash\n",
    "!pip install -e .\n",
    "```"
   ]
  },
  {
   "cell_type": "markdown",
   "metadata": {
    "lines_to_next_cell": 0
   },
   "source": [
    "```bash\n",
    "-bash-4.2$!pip install -e .\n",
    "pip install . install -e .\n",
    "Defaulting to user installation because normal site-packages is not writeable\n",
    "Processing /sfs/qumulo/qhome/vvk6rd/Documents/homework_module_9\n",
    "Obtaining file:///sfs/qumulo/qhome/vvk6rd/Documents/homework_module_9\n",
    "Collecting install\n",
    "  Downloading install-1.3.5-py3-none-any.whl (3.2 kB)\n",
    "Building wheels for collected packages: homework9\n",
    "  Building wheel for homework9 (setup.py) ... done\n",
    "  Created wheel for homework9: filename=homework9-0.1-py3-none-any.whl size=2981 sha256=df40585ecc639ed2965cf8fedf571ddd49764513edd299f5def2941e8c\n",
    "7769ff\n",
    "  Stored in directory: /tmp/pip-ephem-wheel-cache-atmc9r0d/wheels/c4/56/2b/fe1978fd88c0d2f052c611b9a4e46d824e371f1a7ac16a5fdb\n",
    "Successfully built homework9\n",
    "Installing collected packages: install, homework9\n",
    "  Attempting uninstall: homework9\n",
    "    Found existing installation: homework9 0.1\n",
    "    Uninstalling homework9-0.1:\n",
    "      Successfully uninstalled homework9-0.1\n",
    "Successfully installed homework9-0.1 install-1.3.5\n",
    "-bash-4.2$\n",
    "```"
   ]
  },
  {
   "cell_type": "markdown",
   "metadata": {},
   "source": [
    "## Task 4\n",
    "\n",
    "(1 point)\n",
    "\n",
    "Create a file outside your repo to test your package by running it.\n",
    "\n",
    "To do this, import the package into your file and create a BookLover object.\n",
    "\n",
    "Then add a book and then print number books read.\n",
    "\n",
    "Then run the file. \n",
    "\n",
    "Show the output of running the file below, using a command like the following:\n",
    "\n",
    "```bash\n",
    "!python ../book_lover_demo.py\n",
    "```"
   ]
  },
  {
   "cell_type": "code",
   "execution_count": 4,
   "metadata": {},
   "outputs": [
    {
     "name": "stdout",
     "output_type": "stream",
     "text": [
      "Welcome to my homework for module 9\n",
      "This is a test for homework 9\n",
      "num_books_read:  1\n"
     ]
    }
   ],
   "source": [
    "!python booklover_test.py"
   ]
  },
  {
   "cell_type": "code",
   "execution_count": null,
   "metadata": {},
   "outputs": [],
   "source": []
  }
 ],
 "metadata": {
  "jupytext": {
   "cell_metadata_filter": "-all",
   "main_language": "bash",
   "notebook_metadata_filter": "-all"
  },
  "kernelspec": {
   "display_name": "Python 3",
   "language": "python",
   "name": "python3"
  },
  "language_info": {
   "codemirror_mode": {
    "name": "ipython",
    "version": 3
   },
   "file_extension": ".py",
   "mimetype": "text/x-python",
   "name": "python",
   "nbconvert_exporter": "python",
   "pygments_lexer": "ipython3",
   "version": "3.8.8"
  },
  "vscode": {
   "interpreter": {
    "hash": "c3b963de08c47c3b6758389c5e0978ad73698a111eb508d4e16b558edb8f4cbf"
   }
  },
  "widgets": {
   "application/vnd.jupyter.widget-state+json": {
    "state": {},
    "version_major": 2,
    "version_minor": 0
   }
  }
 },
 "nbformat": 4,
 "nbformat_minor": 5
}
